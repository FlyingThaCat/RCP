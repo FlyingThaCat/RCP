{
 "cells": [
  {
   "cell_type": "markdown",
   "metadata": {},
   "source": [
    "### MAKE AI THAT DETECTS ROCK PAPER SCISSORS FROM IMAGE\n",
    "#### AND BUILD A MESSED UP CNN MODEL LUCKILY WORKS WELL WITH THE DATA\n",
    "#### TRAINED DATA FROM https://github.com/dicodingacademy/assets/releases/download/release/rockpaperscissors.zip\n",
    "#### And idk how to build ai so this is just hit or miss"
   ]
  },
  {
   "cell_type": "code",
   "execution_count": null,
   "metadata": {},
   "outputs": [],
   "source": [
    "# Install Tensorflow\n",
    "%pip install tensorflow\n",
    "# Install Pillow\n",
    "%pip install pillow\n",
    "# Install Scipy\n",
    "%pip install scipy\n",
    "# Install Matplotlib\n",
    "%pip install matplotlib"
   ]
  },
  {
   "cell_type": "code",
   "execution_count": null,
   "metadata": {},
   "outputs": [],
   "source": [
    "# Make directory with os\n",
    "import os\n",
    "os.mkdir(\"./resources\")"
   ]
  },
  {
   "cell_type": "code",
   "execution_count": null,
   "metadata": {},
   "outputs": [],
   "source": [
    "# Download the datasheet\n",
    "!wget --no-check-certificate \\\n",
    "    https://github.com/dicodingacademy/assets/releases/download/release/rockpaperscissors.zip \\\n",
    "    -O ./resources/rockpaperscissors.zip"
   ]
  },
  {
   "cell_type": "code",
   "execution_count": null,
   "metadata": {},
   "outputs": [],
   "source": [
    "# Unzip the datasheet\n",
    "import zipfile\n",
    "uzip = zipfile.ZipFile(\"./resources/rockpaperscissors.zip\", 'r')\n",
    "uzip.extractall(\"./resources/\")\n",
    "uzip.close()"
   ]
  },
  {
   "cell_type": "code",
   "execution_count": null,
   "metadata": {},
   "outputs": [],
   "source": [
    "# Clean up the confusing file / folder\n",
    "import shutil, os\n",
    "\n",
    "# Delete __macosx folder with the data\n",
    "if os.path.exists('./resources/__MACOSX'):\n",
    "    shutil.rmtree('./resources/__MACOSX')\n",
    "\n",
    "# Rename folder to datasheet\n",
    "if os.path.exists('./resources/rockpaperscissors'):\n",
    "    os.rename('./resources/rockpaperscissors', \"./resources/datasheet\")\n",
    "\n",
    "# Remove rps-cv-images\n",
    "if os.path.exists('./resources/datasheet/rps-cv-images'):\n",
    "    shutil.rmtree('./resources/datasheet/rps-cv-images')"
   ]
  },
  {
   "cell_type": "code",
   "execution_count": null,
   "metadata": {},
   "outputs": [],
   "source": [
    "# Make Structure the Datasheet\n",
    "import os\n",
    "import random\n",
    "FOLDER_LIST = [\"train\",\"validate\",\"logs\"]\n",
    "for folder in FOLDER_LIST:\n",
    "    if not os.path.exists('./resources/datasheet/' + folder):\n",
    "        os.mkdir('./resources/datasheet/' + folder)\n",
    "\n",
    "# A Bit Calculations\n",
    "# REQUIRED:\n",
    "#   2188 Number of images\n",
    "#   1314 Number of Images for train\n",
    "#   874 Number of Images for validate\n",
    "#   3 Number of Classes\n",
    "TRAIN_GET_PHOTO_PER_FOLDER = int(1314 / 3)\n",
    "VALIDATE_GET_PHOTO_PER_FOLDER = int(874 / 3) # because it is not even\n",
    "SHOULDBETOTAL = TRAIN_GET_PHOTO_PER_FOLDER * 3 + VALIDATE_GET_PHOTO_PER_FOLDER * 3 + 1\n",
    "\n",
    "print(\"TRAIN_GET_PHOTO_PER_FOLDER:\", TRAIN_GET_PHOTO_PER_FOLDER)\n",
    "print(\"VALIDATE_GET_PHOTO_PER_FOLDER:\", VALIDATE_GET_PHOTO_PER_FOLDER, \"+1\")\n",
    "print(\"Total :\", SHOULDBETOTAL)\n",
    "\n",
    "ORIGIN_LIST = [\"rock\",\"paper\",\"scissors\"]\n",
    "for folder in ORIGIN_LIST:\n",
    "    if not os.path.exists('./resources/datasheet/validate/' + folder):\n",
    "        os.mkdir('./resources/datasheet/validate/' + folder)\n",
    "    else:\n",
    "        print(\"Folder already exists:\", folder)\n",
    "        break\n",
    "    for i in range(1,VALIDATE_GET_PHOTO_PER_FOLDER + 1):\n",
    "        files = os.listdir('./resources/datasheet/' + folder)\n",
    "        filea = random.choice(files)\n",
    "        file = \"./resources/datasheet/\"+folder+\"/\"+filea\n",
    "        shutil.move(file, \"./resources/datasheet/validate/\"+folder+\"/\"+filea)\n",
    "\n",
    "# Get 1 file from 1 class for reach the required number of images\n",
    "CHOSSEDFOLDER = ORIGIN_LIST[random.choice(range(3))]\n",
    "files = os.listdir('./resources/datasheet/' + CHOSSEDFOLDER)\n",
    "filea = random.choice(files)\n",
    "file = \"./resources/datasheet/\"+CHOSSEDFOLDER+\"/\"+filea\n",
    "shutil.move(file, \"./resources/datasheet/validate/\"+CHOSSEDFOLDER+\"/\"+filea)\n",
    "\n",
    "for folder in ORIGIN_LIST:\n",
    "    if not os.path.exists('./resources/datasheet/train/' + folder):\n",
    "        os.mkdir('./resources/datasheet/train/' + folder)\n",
    "    else:\n",
    "        print(\"Folder already exists:\", folder)\n",
    "        break\n",
    "    MANYDATALEFT = len(os.listdir('./resources/datasheet/' + folder))\n",
    "    for i in range(1,MANYDATALEFT + 1):\n",
    "        files = os.listdir('./resources/datasheet/' + folder)\n",
    "        filea = random.choice(files)\n",
    "        file = \"./resources/datasheet/\"+folder+\"/\"+filea\n",
    "        shutil.move(file, \"./resources/datasheet/train/\"+folder+\"/\"+filea)\n",
    "\n",
    "#EXPECTED:\n",
    "#   2188 Number of images\n",
    "#   438 Number of Images for train / folder\n",
    "#   291 Number of Images for validate / folder and 1 file in random class\n",
    "#   3 Number of Classes\n",
    "counter = 0\n",
    "for folder in ORIGIN_LIST:\n",
    "    counter += len(os.listdir('./resources/datasheet/train/' + folder))\n",
    "    counter += len(os.listdir('./resources/datasheet/validate/' + folder))\n",
    "print(\"TOTAL ???\", counter)\n",
    "\n",
    "if counter != counter:\n",
    "    print(\"ERROR: UH OH MISSING SOME DATA\")\n",
    "\n",
    "# CleanUp\n",
    "for folder in ORIGIN_LIST:\n",
    "    shutil.rmtree('./resources/datasheet/' + folder)"
   ]
  },
  {
   "cell_type": "code",
   "execution_count": null,
   "metadata": {},
   "outputs": [],
   "source": [
    "# Checking tensorflow\n",
    "import tensorflow as tf\n",
    "print(tf.__version__)"
   ]
  },
  {
   "cell_type": "code",
   "execution_count": null,
   "metadata": {},
   "outputs": [],
   "source": [
    "import os\n",
    "# Vars\n",
    "BASEDIR = \"./resources/datasheet\"\n",
    "TRAIN_DIR = os.path.join(BASEDIR, 'train')\n",
    "VALIDATE_DIR = os.path.join(BASEDIR, 'validate')"
   ]
  },
  {
   "cell_type": "code",
   "execution_count": null,
   "metadata": {},
   "outputs": [],
   "source": [
    "# Listing\n",
    "print(os.listdir(TRAIN_DIR))\n",
    "print(os.listdir(VALIDATE_DIR))"
   ]
  },
  {
   "cell_type": "code",
   "execution_count": null,
   "metadata": {},
   "outputs": [],
   "source": [
    "from tensorflow.keras.preprocessing.image import ImageDataGenerator\n",
    "\n",
    "train_data_gen = ImageDataGenerator(\n",
    "    rescale=1./255,\n",
    "    rotation_range=20,\n",
    "    horizontal_flip=True,\n",
    "    shear_range=0.2,\n",
    "    fill_mode='nearest'\n",
    "    )\n",
    "\n",
    "validate_data_gen = ImageDataGenerator(\n",
    "    rescale=1./255\n",
    "    )"
   ]
  },
  {
   "cell_type": "code",
   "execution_count": null,
   "metadata": {},
   "outputs": [],
   "source": [
    "train_generator = train_data_gen.flow_from_directory(\n",
    "    TRAIN_DIR,\n",
    "    target_size=(300, 200),\n",
    "    batch_size=20,\n",
    "    class_mode='categorical',\n",
    "    classes=['paper', 'rock', 'scissors']\n",
    ")\n",
    "\n",
    "validate_generator = validate_data_gen.flow_from_directory(\n",
    "    VALIDATE_DIR,\n",
    "    target_size=(300, 200),\n",
    "    batch_size=20,\n",
    "    class_mode='categorical',\n",
    "    classes=['paper', 'rock', 'scissors']\n",
    ")"
   ]
  },
  {
   "cell_type": "code",
   "execution_count": null,
   "metadata": {},
   "outputs": [],
   "source": [
    "import matplotlib.pyplot as plt\n",
    "for traingen in train_generator:\n",
    "    images = traingen[0]\n",
    "    labels = traingen[1]\n",
    "    for i in range(len(images)):\n",
    "        plt.subplot(1, 3, i+1)\n",
    "        plt.imshow(images[i])\n",
    "        plt.title(labels[i])\n",
    "        plt.show()\n",
    "        break"
   ]
  },
  {
   "cell_type": "code",
   "execution_count": null,
   "metadata": {},
   "outputs": [],
   "source": [
    "model = tf.keras.models.Sequential([\n",
    "    tf.keras.layers.Conv2D(16, (3,3), activation='relu', input_shape=(300, 200, 3)),\n",
    "    tf.keras.layers.MaxPooling2D(3, 3),\n",
    "    tf.keras.layers.Flatten(),\n",
    "    tf.keras.layers.Dense(3, activation='softmax')\n",
    "])"
   ]
  },
  {
   "cell_type": "code",
   "execution_count": null,
   "metadata": {},
   "outputs": [],
   "source": [
    "model.compile(\n",
    "    loss=\"categorical_crossentropy\",\n",
    "    optimizer=\"adam\", \n",
    "    metrics=[\"accuracy\"]\n",
    "    )"
   ]
  },
  {
   "cell_type": "code",
   "execution_count": null,
   "metadata": {},
   "outputs": [],
   "source": [
    "model.summary()"
   ]
  },
  {
   "cell_type": "code",
   "execution_count": null,
   "metadata": {},
   "outputs": [],
   "source": [
    "model.fit(\n",
    "    train_generator,\n",
    "    steps_per_epoch=20,\n",
    "    epochs=200,\n",
    "    validation_data=validate_generator,\n",
    "    validation_steps=3,\n",
    "    verbose=1\n",
    ")"
   ]
  },
  {
   "cell_type": "code",
   "execution_count": null,
   "metadata": {},
   "outputs": [],
   "source": [
    "import numpy as np\n",
    "import random\n",
    "from tensorflow.keras.preprocessing import image\n",
    "import matplotlib.pyplot as plt\n",
    "%matplotlib inline\n",
    "\n",
    "FOLDER_LIST = [\"rock\",\"paper\",\"scissors\"]\n",
    "for i in range(5):\n",
    "    folder = FOLDER_LIST[random.choice(range(3))]\n",
    "    print(folder)\n",
    "    files = os.listdir('./resources/datasheet/validate/' + folder)\n",
    "    filea = random.choice(files)\n",
    "    file = \"./resources/datasheet/\"+folder+\"/\"+filea\n",
    "    print(file)\n",
    "    img = image.load_img(file, target_size=(300, 200))\n",
    "    y = image.img_to_array(img)\n",
    "    y = np.expand_dims(y, axis=0)\n",
    "    y = y / 255\n",
    "\n",
    "    predict = model.predict(y)\n",
    "\n",
    "    label = train_generator.class_indices\n",
    "    label = dict((v,k) for k,v in label.items())\n",
    "\n",
    "    plt.imshow(img)\n",
    "    plt.title(label[np.argmax(predict)])\n",
    "    plt.show()"
   ]
  },
  {
   "cell_type": "code",
   "execution_count": null,
   "metadata": {},
   "outputs": [],
   "source": [
    "#get model accuracy\n",
    "model.evaluate(validate_generator)"
   ]
  }
 ],
 "metadata": {
  "interpreter": {
   "hash": "04dc33e63a45aa311d58ff68f2b5625f630759f5caf81df9d942c8f228cad97e"
  },
  "kernelspec": {
   "display_name": "Python 3.10.4 ('venv': venv)",
   "language": "python",
   "name": "python3"
  },
  "language_info": {
   "codemirror_mode": {
    "name": "ipython",
    "version": 3
   },
   "file_extension": ".py",
   "mimetype": "text/x-python",
   "name": "python",
   "nbconvert_exporter": "python",
   "pygments_lexer": "ipython3",
   "version": "3.10.4"
  },
  "orig_nbformat": 4
 },
 "nbformat": 4,
 "nbformat_minor": 2
}
